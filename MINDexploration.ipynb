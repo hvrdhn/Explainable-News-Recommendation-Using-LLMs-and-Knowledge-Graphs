{
 "cells": [
  {
   "cell_type": "code",
   "execution_count": null,
   "id": "1fa48c28",
   "metadata": {},
   "outputs": [],
   "source": []
  }
 ],
 "metadata": {
  "kernelspec": {
   "display_name": "transformer",
   "language": "python",
   "name": "python3"
  },
  "language_info": {
   "name": "python",
   "version": "3.13.2"
  }
 },
 "nbformat": 4,
 "nbformat_minor": 5
}
